{
  "nbformat": 4,
  "nbformat_minor": 0,
  "metadata": {
    "colab": {
      "provenance": [],
      "authorship_tag": "ABX9TyOJcja8mX+Rz1Z77XLGRJD5",
      "include_colab_link": true
    },
    "kernelspec": {
      "name": "python3",
      "display_name": "Python 3"
    },
    "language_info": {
      "name": "python"
    }
  },
  "cells": [
    {
      "cell_type": "markdown",
      "metadata": {
        "id": "view-in-github",
        "colab_type": "text"
      },
      "source": [
        "<a href=\"https://colab.research.google.com/github/Maytri21/Big-data/blob/main/if_else.ipynb\" target=\"_parent\"><img src=\"https://colab.research.google.com/assets/colab-badge.svg\" alt=\"Open In Colab\"/></a>"
      ]
    },
    {
      "cell_type": "code",
      "execution_count": null,
      "metadata": {
        "colab": {
          "base_uri": "https://localhost:8080/"
        },
        "id": "FFEOok-Y9udc",
        "outputId": "067e7d0f-4664-4f09-cafc-af225ac6592d"
      },
      "outputs": [
        {
          "output_type": "stream",
          "name": "stdout",
          "text": [
            "enter a number:3\n",
            "number is odd\n"
          ]
        }
      ],
      "source": [
        "#Q1 Write a program that takes an integer input from the user and checks whether the number is odd or even.\n",
        "num=int(input(\"enter a number:\"))\n",
        "if(num%2==0):\n",
        "  print(\"number is even\")\n",
        "else:\n",
        "  print(\"number is odd\")"
      ]
    },
    {
      "cell_type": "code",
      "source": [
        "#Q2 Write a program that takes three numbers as input and prints the largest of the three.\n",
        "x=int(input(\"enter a number:\"))\n",
        "y=int(input(\"enter a number:\"))\n",
        "z=int(input(\"enter a number:\"))\n",
        "if(x>y and x>z):\n",
        "  print(x, \"is largest\")\n",
        "elif(y>x and y>z):\n",
        "  print(y, \"is largest\")\n",
        "else:\n",
        "  print(z, \"is largest\")"
      ],
      "metadata": {
        "colab": {
          "base_uri": "https://localhost:8080/"
        },
        "id": "2xjsh1z3_Lha",
        "outputId": "17f2c419-6198-4f33-e5d3-968f983ecc01"
      },
      "execution_count": null,
      "outputs": [
        {
          "output_type": "stream",
          "name": "stdout",
          "text": [
            "enter a number:3\n",
            "enter a number:4\n",
            "enter a number:5\n",
            "5 is largest\n"
          ]
        }
      ]
    },
    {
      "cell_type": "code",
      "source": [
        "#Q3 Write a program to check if a given year is a leap year. A leap year is divisible by 4 but not by 100 unless it is also divisible by 400.\n",
        "year= int(input(\"enter a year\"))\n",
        "if(year%4==0 and year%100!=0 or year%400==0):\n",
        "  print(\"year is leap year\")\n",
        "else:\n",
        "  print(\"year is not a leap year\")"
      ],
      "metadata": {
        "colab": {
          "base_uri": "https://localhost:8080/"
        },
        "id": "gIrlE6EYBJBE",
        "outputId": "8ff3755d-655d-4632-9c27-678d5f8137bd"
      },
      "execution_count": null,
      "outputs": [
        {
          "output_type": "stream",
          "name": "stdout",
          "text": [
            "enter a year2024\n",
            "year is leap year\n"
          ]
        }
      ]
    },
    {
      "cell_type": "code",
      "source": [
        "#Q4 Write a program that takes a percentage (integer) as input and prints the corresponding grade based on the following criteria:\n",
        "# >= 90: Grade A\n",
        "# >= 80: Grade B\n",
        "# >= 70: Grade C\n",
        "# >= 60: Grade D\n",
        "# <60: Grade E\n",
        "percentage= int(input(\"enter your grades\"))\n",
        "if(percentage>=90):\n",
        "  print(\"grade A\")\n",
        "elif(90>=percentage>=80):\n",
        "  print(\"grade B\")\n",
        "elif(80>=percentage>=70):\n",
        "  print(\"grade C\")\n",
        "elif(70>=percentage>=60):\n",
        "  print(\"grade D\")\n",
        "elif(percentage<=60):\n",
        "  print(\"grade E\")\n",
        "else:\n",
        "  print(\"wrong choice\")\n",
        "\n"
      ],
      "metadata": {
        "colab": {
          "base_uri": "https://localhost:8080/"
        },
        "id": "cwDnlY7oDsu9",
        "outputId": "6a406d40-0f9b-4dd4-bcc2-4eb0e248793d"
      },
      "execution_count": null,
      "outputs": [
        {
          "output_type": "stream",
          "name": "stdout",
          "text": [
            "enter your grades44\n",
            "grade E\n"
          ]
        }
      ]
    },
    {
      "cell_type": "code",
      "source": [
        "#Q5 Write a program that checks if a given letter is a vowel (a, e, i, o, u) or a consonant.\n",
        "letter= input(\"enter the character\")\n",
        "if(letter==\"a\" or letter==\"e\" or letter== \"i\" or letter==\"o\" or letter==\"u\"):\n",
        "  print(letter, \"is vowel\")\n",
        "else:\n",
        "  print(letter, \"is consonent\")"
      ],
      "metadata": {
        "colab": {
          "base_uri": "https://localhost:8080/"
        },
        "id": "LL_6K60KFoDI",
        "outputId": "26acec0d-0e47-4759-9225-0ddd93db7739"
      },
      "execution_count": null,
      "outputs": [
        {
          "output_type": "stream",
          "name": "stdout",
          "text": [
            "enter the charactere\n",
            "e is vowel\n"
          ]
        }
      ]
    },
    {
      "cell_type": "code",
      "source": [
        "#Q6 Write a basic calculator program that takes two numbers and an operator (+, -, *, /) as input and performs the specified operation. Print the result based on the operation.\n",
        "print(\"1.Addition\")\n",
        "print(\"2.subraction\")\n",
        "print(\"3.multiplication\")\n",
        "print(\"4.division\")\n",
        "x= int(input(\"enter a number\"))\n",
        "y= int(input(\"enter a number\"))\n",
        "choice= input(\"enter your choice\")\n",
        "if(choice==\"1\"):\n",
        "  print(\"addition is:\", x+y)\n",
        "elif(choice==\"2\"):\n",
        "  print(\"subraction is:\", x-y)\n",
        "elif(choice==\"3\"):\n",
        "  print(\"multiplication is:\", X*y)\n",
        "elif(choice==\"4\"):\n",
        "  print(\"division is:\", x/y)\n",
        "else:\n",
        "  print(\"wrong choice\")"
      ],
      "metadata": {
        "colab": {
          "base_uri": "https://localhost:8080/"
        },
        "id": "3-5_1i2IILLz",
        "outputId": "74444e94-9556-4528-cbbf-e275a5938a0a"
      },
      "execution_count": null,
      "outputs": [
        {
          "output_type": "stream",
          "name": "stdout",
          "text": [
            "1.Addition\n",
            "2.subraction\n",
            "3.multiplication\n",
            "4.division\n",
            "enter a number4\n",
            "enter a number2\n",
            "enter your choice1\n",
            "addition is: 6\n"
          ]
        }
      ]
    },
    {
      "cell_type": "code",
      "source": [
        "#Q7 Write a program that takes a number as input and checks whether it is positive, negative, or zero.\n",
        "num= int(input(\"enter a number:\"))\n",
        "if(num==0):\n",
        "  print(\"number is zero\")\n",
        "elif(num>0):\n",
        "  print(\"number is positive\")\n",
        "else:\n",
        "  print(\"number is negative\")"
      ],
      "metadata": {
        "id": "yzQSw61VJurm",
        "colab": {
          "base_uri": "https://localhost:8080/"
        },
        "outputId": "5591b9bc-02ce-4727-dec6-dfc49327c6cf"
      },
      "execution_count": null,
      "outputs": [
        {
          "output_type": "stream",
          "name": "stdout",
          "text": [
            "enter a number:2\n",
            "number is positive\n"
          ]
        }
      ]
    },
    {
      "cell_type": "code",
      "source": [
        "#Q8 Write a program that checks if a username and password entered by the user match the pre-set values username = \"admin\" and password = \"1234\". If both match, print \"Login Successful\", otherwise print \"Login Failed\".\n",
        "username= \"admin\"\n",
        "password= \"1234\"\n",
        "user= input(\"enter the username:\")\n",
        "pin= input(\"enter the passwoed:\")\n",
        "if(user==username and pin==password):\n",
        "  print(\"login successful\")\n",
        "else:\n",
        "  print(\"Login failed\")"
      ],
      "metadata": {
        "colab": {
          "base_uri": "https://localhost:8080/"
        },
        "id": "TdMKFnOV3aA4",
        "outputId": "57cc7b25-326a-425d-abb5-bc79063220dc"
      },
      "execution_count": null,
      "outputs": [
        {
          "output_type": "stream",
          "name": "stdout",
          "text": [
            "enter the username:admin\n",
            "enter the passwoed:1234\n",
            "login successful\n"
          ]
        }
      ]
    },
    {
      "cell_type": "code",
      "source": [
        "#Q9 Write a program that takes three sides of a triangle as input and checks if those sides form a valid triangle. A triangle is valid if the sum of any two sides is greater than the third side.\n",
        "#Check conditions like a + b > c, b + c > a, and a + c > b.\n",
        "a= int(input(\"enter first side of triangle:\"))\n",
        "b= int(input(\"enter second side of triangle:\"))\n",
        "c= int(input(\"enter third side of triangle:\"))\n",
        "if(a+b>c or a+c>b or b+c>a):\n",
        "  print(\"abc is a triangle of sides:\", a, b ,c)\n",
        "else:\n",
        "  print(\"abc is not a triangle of sides:\", a, b, c)"
      ],
      "metadata": {
        "colab": {
          "base_uri": "https://localhost:8080/"
        },
        "id": "kEP1eTcX40mK",
        "outputId": "1eb1a025-80bb-491e-f9e7-dbeb9df33c08"
      },
      "execution_count": null,
      "outputs": [
        {
          "output_type": "stream",
          "name": "stdout",
          "text": [
            "enter first side of triangle:1\n",
            "enter second side of triangle:2\n",
            "enter third side of triangle:3\n",
            "abc is a triangle of sides: 1 2 3\n"
          ]
        }
      ]
    },
    {
      "cell_type": "code",
      "source": [
        "#Q10 Write a program that calculates the Body Mass Index (BMI) based on user input for weight (in kilograms) and height (in meters).\n",
        "#Then categorize the BMI into:\n",
        "#Underweight (BMI < 18.5)\n",
        "#Normal weight (18.5 <= BMI < 24.9)\n",
        "#Overweight (25 <= BMI < 29.9)\n",
        "#Obesity (BMI >= 30)\n",
        "weight= float(input(\"enter your weight in kg:\"))\n",
        "height= float(input(\"enter your height in meters:\"))\n",
        "BMI= weight/(height**2)\n",
        "print(BMI)\n",
        "if(BMI < 18.5):\n",
        "  print(\"you are underweight\")\n",
        "elif(18.5 <= BMI < 24.9):\n",
        "  print(\"you have a normal weight\")\n",
        "elif(25 <= BMI < 29.9):\n",
        "  print(\"you are overweight\")\n",
        "else:\n",
        "  print(\"you have obesity\")"
      ],
      "metadata": {
        "colab": {
          "base_uri": "https://localhost:8080/"
        },
        "id": "NlzPLVzv6krN",
        "outputId": "7f2b7cdf-f648-45fd-9f59-06b09e2e086b"
      },
      "execution_count": null,
      "outputs": [
        {
          "output_type": "stream",
          "name": "stdout",
          "text": [
            "enter your weight in kg:33\n",
            "enter your height in meters:1.22\n",
            "22.171459285138404\n",
            "you have a normal weight\n"
          ]
        }
      ]
    },
    {
      "cell_type": "code",
      "source": [
        "#Q11 Write a program that calculates the discount for a product based on its price:\n",
        "#If price is greater than 1000, discount is 10%\n",
        "#If price is between 500 and 1000, discount is 5%\n",
        "#Otherwise, no discount\n",
        "#Print the final price after applying the discount.\n",
        "product_price= float(input(\"enter the price of the product:\"))\n",
        "discount=0.0\n",
        "final_price=0.0\n",
        "if(product_price>1000):\n",
        "  discount= (product_price*10)/100\n",
        "  final_price= product_price-discount\n",
        "  print(\"discount is:\", discount)\n",
        "  print(\"final price is:\", final_price)\n",
        "elif(500<product_price<1000):\n",
        "  discount= (product_price*5)/100\n",
        "  final_price= product_price-discount\n",
        "  print(\"discount is:\", discount)\n",
        "  print(\"final price is:\", final_price)\n",
        "else:\n",
        "  print(\"no discount\")\n"
      ],
      "metadata": {
        "colab": {
          "base_uri": "https://localhost:8080/"
        },
        "id": "E0sj_e8i93mV",
        "outputId": "63d2dd95-33cd-47cb-b57a-e96499749bb7"
      },
      "execution_count": null,
      "outputs": [
        {
          "output_type": "stream",
          "name": "stdout",
          "text": [
            "enter the price of the product:2000\n",
            "discount is: 200.0\n",
            "final price is: 1800.0\n"
          ]
        }
      ]
    },
    {
      "cell_type": "code",
      "source": [
        "#Q12 Write a program that takes the name of a month as input and prints the number of days in that month. Consider leap years for February.\n",
        "month= input(\"enter a month:\")\n",
        "if(month==\"january\" or month==\"march\" or month==\"may\" or month==\"july\" or month==\"august\" or month==\"october\" or month==\"december\"):\n",
        "  print(month, \"has 31days\")\n",
        "elif(month==\"april\" or month==\"june\" or month==\"september\" or month==\"november\"):\n",
        "  print(month, \"has 30days\")\n",
        "elif(month==\"february\"):\n",
        "  year= int(input(\"enter year\"))\n",
        "  if(year%4==0 and year%100!=0 or year%400==0):\n",
        "    print(month, \"has 29days\")\n",
        "  else:\n",
        "    print(month, \"has 28days\")\n",
        "else:\n",
        "  print(\"wrong choice\")\n"
      ],
      "metadata": {
        "colab": {
          "base_uri": "https://localhost:8080/"
        },
        "id": "I-96UAC-BAP0",
        "outputId": "ee707e90-3603-4c7b-fe2f-28808a1f1488"
      },
      "execution_count": null,
      "outputs": [
        {
          "output_type": "stream",
          "name": "stdout",
          "text": [
            "enter a month:april\n",
            "april has 30days\n"
          ]
        }
      ]
    },
    {
      "cell_type": "code",
      "source": [
        "#Q13 Write a program that simulates a simple ATM. The user should be able to:\n",
        "#Check balance\n",
        "#Deposit money\n",
        "#Withdraw money (ensure the balance doesn't go negative)\n",
        "#Use an if-else structure to handle the user's choices\n",
        "balance= 10000.00\n",
        "print(\"ATM\")\n",
        "print(\"1. Check Balance\")\n",
        "print(\"2. Deposit Money\")\n",
        "print(\"3. Withdraw money\")\n",
        "print(\"4. Exit\")\n",
        "choice=input(\"enter your choice:\")\n",
        "if(choice==\"1\"):\n",
        "  print(\"Your balance is: rs.\", balance)\n",
        "elif(choice==\"2\"):\n",
        "  amount=float(input(\"enter amount to be deposited: rs.\"))\n",
        "  if(amount>0):\n",
        "    balance+=amount\n",
        "    print(amount,\"deposited successfully\")\n",
        "  else:\n",
        "    print(\"invalid amount\")\n",
        "elif(choice==\"3\"):\n",
        "  amount=float(input(\"enter amount to be withdrawn: rs.\"))\n",
        "  if(amount>0):\n",
        "    if(amount<=balance):\n",
        "      balance-=amount\n",
        "      print(amount,\"successfully withdrawn\")\n",
        "    else:\n",
        "      print(\"insufficient balance\")\n",
        "  else:\n",
        "    print(\"invalid withdraw amount\")\n",
        "elif(choice==\"4\"):\n",
        "  print(\"thankyou for using ATM\")\n",
        "else:\n",
        "  print(\"invalid choice, choose from (1-4)\")"
      ],
      "metadata": {
        "colab": {
          "base_uri": "https://localhost:8080/"
        },
        "id": "_f7W5wlyDnEr",
        "outputId": "3123d8a8-d87c-47ca-eded-3e9d43579ead"
      },
      "execution_count": null,
      "outputs": [
        {
          "output_type": "stream",
          "name": "stdout",
          "text": [
            "ATM\n",
            "1. Check Balance\n",
            "2. Deposit Money\n",
            "3. Withdraw money\n",
            "4. Exit\n",
            "enter your choice:1\n",
            "Your balance is: rs. 10000.0\n"
          ]
        }
      ]
    },
    {
      "cell_type": "code",
      "source": [
        "#Q14 Write a program that categorizes a given age into different groups:\n",
        "#Infant (0-1 year)\n",
        "#Toddler (2-4 years)\n",
        "#Child (5-12 years)\n",
        "#Teenager (13-19 years)\n",
        "#Adult (20-59 years)\n",
        "#Senior (60 years and above)\n",
        "age= int(input(\"enter your age:\"))\n",
        "if(0<=age<=1):\n",
        "  print(\"you are an infant\")\n",
        "elif(2<=age<=4):\n",
        "   print(\"you are a toddler\")\n",
        "elif(5<=age<=12):\n",
        "   print(\"you are a child\")\n",
        "elif(13<=age<=19):\n",
        "   print(\"you are a teenager\")\n",
        "elif(20<=age<=59):\n",
        "   print(\"you are an adult\")\n",
        "elif(age>=60):\n",
        "   print(\"you are a senior citizen\")"
      ],
      "metadata": {
        "colab": {
          "base_uri": "https://localhost:8080/"
        },
        "id": "XWzBF8WAFnBC",
        "outputId": "e41d53f9-ab9d-47b8-8232-7bb66e73d3cf"
      },
      "execution_count": null,
      "outputs": [
        {
          "output_type": "stream",
          "name": "stdout",
          "text": [
            "enter your age:67\n",
            "you are a senior citizen\n"
          ]
        }
      ]
    },
    {
      "cell_type": "code",
      "source": [
        "#Q15 Write a program that takes an integer (1-7) as input and prints the corresponding day of the week (1 for Monday, 2 for Tuesday, etc.).\n",
        "num= int(input(\"enter a number between 1-7:\"))\n",
        "if(num==1):\n",
        "  print(\"monday\")\n",
        "elif(num==2):\n",
        "  print(\"tuesday\")\n",
        "elif(num==3):\n",
        "  print(\"wednesday\")\n",
        "elif(num==4):\n",
        "  print(\"thursday\")\n",
        "elif(num==5):\n",
        "  print(\"friday\")\n",
        "elif(num==6):\n",
        "  print(\"saturday\")\n",
        "elif(num==7):\n",
        "  print(\"sunday\")\n",
        "else:\n",
        "  print(\"invalid number\")"
      ],
      "metadata": {
        "colab": {
          "base_uri": "https://localhost:8080/"
        },
        "id": "YuyDEsSOIG5e",
        "outputId": "1287603e-a8e2-42c6-86d1-52f4f6a6895c"
      },
      "execution_count": null,
      "outputs": [
        {
          "output_type": "stream",
          "name": "stdout",
          "text": [
            "enter a number between 1-7:3\n",
            "wednesday\n"
          ]
        }
      ]
    }
  ]
}