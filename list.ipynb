{
  "nbformat": 4,
  "nbformat_minor": 0,
  "metadata": {
    "colab": {
      "provenance": [],
      "authorship_tag": "ABX9TyNEo9Tsf1MqqoG/f34wCQhj",
      "include_colab_link": true
    },
    "kernelspec": {
      "name": "python3",
      "display_name": "Python 3"
    },
    "language_info": {
      "name": "python"
    }
  },
  "cells": [
    {
      "cell_type": "markdown",
      "metadata": {
        "id": "view-in-github",
        "colab_type": "text"
      },
      "source": [
        "<a href=\"https://colab.research.google.com/github/Maytri21/Big-data/blob/main/list.ipynb\" target=\"_parent\"><img src=\"https://colab.research.google.com/assets/colab-badge.svg\" alt=\"Open In Colab\"/></a>"
      ]
    },
    {
      "cell_type": "code",
      "execution_count": null,
      "metadata": {
        "colab": {
          "base_uri": "https://localhost:8080/"
        },
        "id": "aLoPwniEVMBy",
        "outputId": "d81eb98c-32f0-495d-de06-c563962bee8c"
      },
      "outputs": [
        {
          "output_type": "stream",
          "name": "stdout",
          "text": [
            "the maximum number is: 99\n"
          ]
        }
      ],
      "source": [
        "#1. Write a Python program to find the maximum element in a list of numbers without max functions.\n",
        "list1= [10,20,4,45,99]\n",
        "temp=list1[0]\n",
        "for i in list1:\n",
        "  if(i>temp):\n",
        "    temp=i\n",
        "print(\"the maximum number is:\", temp)"
      ]
    },
    {
      "cell_type": "code",
      "source": [
        "#2. Write a Python program to sum all the elements in a list of numbers.\n",
        "list1=[10,20,30,40]\n",
        "sum=0\n",
        "for i in list1:\n",
        "  sum=sum+i\n",
        "print(\"the sum of all the elements in the list is:\", sum)"
      ],
      "metadata": {
        "colab": {
          "base_uri": "https://localhost:8080/"
        },
        "id": "Gj-OLcidWaUC",
        "outputId": "6208c6d9-ac3b-4f3a-8055-01e205eac441"
      },
      "execution_count": null,
      "outputs": [
        {
          "output_type": "stream",
          "name": "stdout",
          "text": [
            "the sum of all the elements in the list is: 100\n"
          ]
        }
      ]
    },
    {
      "cell_type": "code",
      "source": [
        "#3. Write a Python program to reverse a list without reverse or slicing operator.\n",
        "list1=[1,2,3,4,5]\n",
        "reverse_list=[]\n",
        "for i in list1:\n",
        "  reverse_list.insert(0,i)\n",
        "print(\"the original list is:\", list1)\n",
        "print(\"the reversed list is:\", reverse_list)"
      ],
      "metadata": {
        "colab": {
          "base_uri": "https://localhost:8080/"
        },
        "id": "fM9hYjS1XGEu",
        "outputId": "7d5bf552-4931-4e7b-eb6f-ad5cb302ff12"
      },
      "execution_count": null,
      "outputs": [
        {
          "output_type": "stream",
          "name": "stdout",
          "text": [
            "the original list is: [1, 2, 3, 4, 5]\n",
            "the reversed list is: [5, 4, 3, 2, 1]\n"
          ]
        }
      ]
    },
    {
      "cell_type": "code",
      "source": [
        "#4. Write a Python program to sort a list in ascending order without sort functions.\n",
        "numbers = [23, 12, 5, 67, 1, 34]\n",
        "n=len(numbers)\n",
        "for i in range(n):\n",
        "  for j in range(0,n-i-1):\n",
        "    if(numbers[j]>numbers[j+1]):\n",
        "      numbers[j],numbers[j+1]=numbers[j+1],numbers[j]\n",
        "print(\"sorted list in ascending order\",numbers)"
      ],
      "metadata": {
        "colab": {
          "base_uri": "https://localhost:8080/"
        },
        "id": "0ERHi8XnY-qn",
        "outputId": "eebe79e7-0025-4bf6-9f9a-4b5ce03e071c"
      },
      "execution_count": 1,
      "outputs": [
        {
          "output_type": "stream",
          "name": "stdout",
          "text": [
            "sorted list in ascending order [1, 5, 12, 23, 34, 67]\n"
          ]
        }
      ]
    },
    {
      "cell_type": "code",
      "source": [
        "#5. Write a Python program to remove duplicates from a list while maintaining the order of elements.\n",
        "list1=[1,2,2,3,3,4,4,5]\n",
        "unique=[]\n",
        "for i in list1:\n",
        "  if(i not in unique):\n",
        "    unique.append(i)\n",
        "print('new list is:', unique)"
      ],
      "metadata": {
        "id": "QX1Ct1ELcKAb",
        "colab": {
          "base_uri": "https://localhost:8080/"
        },
        "outputId": "b07281e6-1a6d-4f78-8126-b8be31e75c9f"
      },
      "execution_count": null,
      "outputs": [
        {
          "output_type": "stream",
          "name": "stdout",
          "text": [
            "new list is: [1, 2, 3, 4, 5]\n"
          ]
        }
      ]
    },
    {
      "cell_type": "code",
      "source": [
        "#6.Write a Python program to find all pairs of numbers in a list that add up to a specific target sum.\n",
        "list1=[1,2,3,4,3,5,6]\n",
        "for index in range(0,6):\n",
        "  curr=list1[index]\n",
        "  for index2 in range(index+1,6):\n",
        "    next=list1[index2]\n",
        "    if(curr + next ==6):\n",
        "      print(\"two element is:\",curr,next)"
      ],
      "metadata": {
        "colab": {
          "base_uri": "https://localhost:8080/"
        },
        "id": "712aSSBd19vp",
        "outputId": "313505e2-1ed9-481e-e335-af022501c807"
      },
      "execution_count": null,
      "outputs": [
        {
          "output_type": "stream",
          "name": "stdout",
          "text": [
            "two element is: 1 5\n",
            "two element is: 2 4\n",
            "two element is: 3 3\n"
          ]
        }
      ]
    },
    {
      "cell_type": "code",
      "source": [
        "#7. Write a Python program to flatten a nested list (list within lists) into a single list.\n",
        "nested_list = [1, [2, 3], [4, [5, 6], 7], 8]\n",
        "flat_list = []\n",
        "for item in nested_list:\n",
        "    if type(item) == list:\n",
        "        for subitem in item:\n",
        "            if type(subitem) == list:\n",
        "                for val in subitem:\n",
        "                    flat_list.append(val)\n",
        "            else:\n",
        "                flat_list.append(subitem)\n",
        "    else:\n",
        "        flat_list.append(item)\n",
        "print(\"nested list:\", nested_list)\n",
        "print(\"Flattened list:\", flat_list)\n"
      ],
      "metadata": {
        "colab": {
          "base_uri": "https://localhost:8080/"
        },
        "id": "8WQK80vb2JFV",
        "outputId": "65753b9e-464d-4b71-9ac9-2c9c5a85fd30"
      },
      "execution_count": null,
      "outputs": [
        {
          "output_type": "stream",
          "name": "stdout",
          "text": [
            "nested list: [1, [2, 3], [4, [5, 6], 7], 8]\n",
            "Flattened list: [1, 2, 3, 4, 5, 6, 7, 8]\n"
          ]
        }
      ]
    },
    {
      "cell_type": "code",
      "source": [
        "#8. Write a Python program to find the sum of the elements in a list, excluding the largest and smallest element. Don’t use max or min functions.\n",
        "list1=[1,2,3,4,5,6]\n",
        "large=list1[0]\n",
        "small=list1[0]\n",
        "sum=0\n",
        "for i in list1:\n",
        "  sum+=i\n",
        "  if(i>large):\n",
        "    large=i\n",
        "  elif(i<small):\n",
        "    small=i\n",
        "  else:\n",
        "    print(\"wrong\")\n",
        "print(\"sum is:\", sum-large-small)\n"
      ],
      "metadata": {
        "colab": {
          "base_uri": "https://localhost:8080/"
        },
        "id": "C8ZN4afM2NCp",
        "outputId": "bda3de38-f09c-4d3c-b0cd-b67ddead4a44"
      },
      "execution_count": null,
      "outputs": [
        {
          "output_type": "stream",
          "name": "stdout",
          "text": [
            "wrong\n",
            "sum is: 14\n"
          ]
        }
      ]
    },
    {
      "cell_type": "code",
      "source": [
        "#9. Write a Python program to check if a list is a palindrome (reads the same backward as forward) using two pointer approach.\n",
        "num=[1,2,3,2,1]\n",
        "i=0\n",
        "j=len(num)-1\n",
        "while(i<j):\n",
        "  if(num[i]!=num[j]):\n",
        "    print(\"the list is not palindrome\")\n",
        "    break\n",
        "    i+=1\n",
        "    j-=1\n",
        "  else:\n",
        "    print(\"the list is palindrome\")\n",
        "    break"
      ],
      "metadata": {
        "colab": {
          "base_uri": "https://localhost:8080/"
        },
        "id": "MXLwm6aA2ZDD",
        "outputId": "8dcce6cc-ba95-44d5-93a1-d6eb6aebc97d"
      },
      "execution_count": null,
      "outputs": [
        {
          "output_type": "stream",
          "name": "stdout",
          "text": [
            "the list is palindrome\n"
          ]
        }
      ]
    },
    {
      "cell_type": "code",
      "source": [
        "#10. Write a function to remove duplicate elements from a list.\n",
        "def duplicate():\n",
        "  list1=[1,2,2,3,3,4,4,5]\n",
        "  unique=[]\n",
        "  for i in list1:\n",
        "    if(i not in unique):\n",
        "      unique.append(i)\n",
        "  print('new list is:', unique)\n",
        "duplicate()"
      ],
      "metadata": {
        "colab": {
          "base_uri": "https://localhost:8080/"
        },
        "id": "lkBDhWwd2fbL",
        "outputId": "36b0034a-64a4-4731-b5a0-0071bddc8199"
      },
      "execution_count": null,
      "outputs": [
        {
          "output_type": "stream",
          "name": "stdout",
          "text": [
            "new list is: [1, 2, 3, 4, 5]\n"
          ]
        }
      ]
    },
    {
      "cell_type": "code",
      "source": [
        "#11. Find Common Elements in Two Lists.\n",
        "list1=[1,2,3,4,5,6]\n",
        "list2=[3,5,8,9]\n",
        "for i in list1:\n",
        "  if(i in list2):\n",
        "    print(\"common element is:\", i)"
      ],
      "metadata": {
        "colab": {
          "base_uri": "https://localhost:8080/"
        },
        "id": "vL8n3PRJ22iS",
        "outputId": "2f6265a9-5cdd-4585-e3c8-f24569c09770"
      },
      "execution_count": null,
      "outputs": [
        {
          "output_type": "stream",
          "name": "stdout",
          "text": [
            "common element is: 3\n",
            "common element is: 5\n"
          ]
        }
      ]
    },
    {
      "cell_type": "code",
      "source": [
        "#12. Find the Longest Word in a List.\n",
        "list1=[\"apple\",\"banana\",\"mango\"]\n",
        "longest= list1[0]\n",
        "for i in list1:\n",
        "  if(len(i)>len(longest)):\n",
        "    longest=i\n",
        "print(\"longest word is:\", longest)"
      ],
      "metadata": {
        "colab": {
          "base_uri": "https://localhost:8080/"
        },
        "id": "UV4O5jme25tW",
        "outputId": "38c3a8d6-70fb-4a3e-f2d0-9ea90effe7c4"
      },
      "execution_count": null,
      "outputs": [
        {
          "output_type": "stream",
          "name": "stdout",
          "text": [
            "longest word is: banana\n"
          ]
        }
      ]
    },
    {
      "cell_type": "code",
      "source": [
        "#13. Find Missing Number in a List.\n",
        "list1=[1,2,4,5,6]\n",
        "for i in range(1,len(list1)+1):\n",
        "  if(i not in list1):\n",
        "    print(\"missing element is:\", i)"
      ],
      "metadata": {
        "colab": {
          "base_uri": "https://localhost:8080/"
        },
        "id": "tR_qOUSN2-Wt",
        "outputId": "0df36904-0a83-4d81-e327-acb510b55c0c"
      },
      "execution_count": null,
      "outputs": [
        {
          "output_type": "stream",
          "name": "stdout",
          "text": [
            "missing element is: 3\n"
          ]
        }
      ]
    },
    {
      "cell_type": "code",
      "source": [
        "#14. Find the First Non-Repeating Element\n",
        "#Given a list of integers, find the first element that appears only once.\n",
        "#a. numbers = [4, 5, 1, 2, 0, 4, 5, 2]\n",
        "#b. Expected Output: 1\n",
        "list1=[4, 5, 1, 2, 0, 4, 5, 2]\n",
        "for i in list1:\n",
        "  if(list1.count(i)==1):\n",
        "    print(\"first element that appears only once is:\", i)\n",
        "    break"
      ],
      "metadata": {
        "colab": {
          "base_uri": "https://localhost:8080/"
        },
        "id": "fWngwdRy3mgR",
        "outputId": "eab7359a-d955-4336-dce1-58c236966ce6"
      },
      "execution_count": null,
      "outputs": [
        {
          "output_type": "stream",
          "name": "stdout",
          "text": [
            "first element that appears only once is: 1\n"
          ]
        }
      ]
    },
    {
      "cell_type": "code",
      "source": [
        "#15. Move All Zeros to the End.\n",
        "list1=[0,1,0,3,12]\n",
        "list2=[]\n",
        "list3=[]\n",
        "for i in list1:\n",
        "  if(i==0):\n",
        "    list2.append(i)\n",
        "  else:\n",
        "    list3.append(i)\n",
        "print(\"final list is:\", list3+list2)"
      ],
      "metadata": {
        "colab": {
          "base_uri": "https://localhost:8080/"
        },
        "id": "mlMf3dGS3vjN",
        "outputId": "81c65e01-36db-47e6-a877-03ff8cefcc5a"
      },
      "execution_count": null,
      "outputs": [
        {
          "output_type": "stream",
          "name": "stdout",
          "text": [
            "final list is: [1, 3, 12, 0, 0]\n"
          ]
        }
      ]
    },
    {
      "cell_type": "code",
      "source": [
        "#16. Find Elements Greater Than Their Left Neighbor.\n",
        "numbers = [1, 3, 2, 6, 5, 8, 7]\n",
        "for i in range(1,len(numbers)):\n",
        "  if(numbers[i]>numbers[i-1]):\n",
        "   print(f\"{numbers[i]} is greater than {numbers[i-1]}\")"
      ],
      "metadata": {
        "colab": {
          "base_uri": "https://localhost:8080/"
        },
        "id": "LTX6I3Pq30SM",
        "outputId": "2727690d-fe03-4a55-cbbf-ea00bc37d7f7"
      },
      "execution_count": null,
      "outputs": [
        {
          "output_type": "stream",
          "name": "stdout",
          "text": [
            "3 is greater than 1\n",
            "6 is greater than 2\n",
            "8 is greater than 5\n"
          ]
        }
      ]
    },
    {
      "cell_type": "code",
      "source": [
        "#17. Find Triplets That Sum to Zero\n",
        "#Given a list of numbers, find all unique triplets (a, b, c) such that a + b + c = 0.\n",
        "#a. numbers = [-1, 0, 1, 2, -1, -4]\n",
        "#b. Expected Output: [(-1, -1, 2), (-1, 0, 1)]\n",
        "mylist=[1,2,3,3,4,5]\n",
        "for index in range(0,6):\n",
        "  curr=mylist[index]\n",
        "  for index2 in range(index+1,6):\n",
        "    next=mylist[index2]\n",
        "    for index3 in range(index2+1,6):\n",
        "      next1=mylist[index3]\n",
        "      if(curr + next + next1 ==6):\n",
        "         print(\"three element is:\",curr,next,next1)\n",
        "         break"
      ],
      "metadata": {
        "colab": {
          "base_uri": "https://localhost:8080/"
        },
        "id": "hUu2rzya4FJg",
        "outputId": "2a621252-a7c4-4854-b893-b72591ce5a7b"
      },
      "execution_count": null,
      "outputs": [
        {
          "output_type": "stream",
          "name": "stdout",
          "text": [
            "three element is: 1 2 3\n"
          ]
        }
      ]
    }
  ]
}