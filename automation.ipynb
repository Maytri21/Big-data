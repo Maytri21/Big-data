{
  "nbformat": 4,
  "nbformat_minor": 0,
  "metadata": {
    "colab": {
      "provenance": [],
      "authorship_tag": "ABX9TyOIIisTQyND9A6h7yIqGRjB",
      "include_colab_link": true
    },
    "kernelspec": {
      "name": "python3",
      "display_name": "Python 3"
    },
    "language_info": {
      "name": "python"
    }
  },
  "cells": [
    {
      "cell_type": "markdown",
      "metadata": {
        "id": "view-in-github",
        "colab_type": "text"
      },
      "source": [
        "<a href=\"https://colab.research.google.com/github/Maytri21/Big-data/blob/main/automation.ipynb\" target=\"_parent\"><img src=\"https://colab.research.google.com/assets/colab-badge.svg\" alt=\"Open In Colab\"/></a>"
      ]
    },
    {
      "cell_type": "code",
      "execution_count": 1,
      "metadata": {
        "colab": {
          "base_uri": "https://localhost:8080/"
        },
        "id": "qfP_uK4ZRRPM",
        "outputId": "a9adb057-3a1f-4045-ed6e-8cf720191571"
      },
      "outputs": [
        {
          "output_type": "stream",
          "name": "stdout",
          "text": [
            "1. Create Folder\n",
            "2. Create File\n",
            "3. Send WhatsApp Message\n",
            "4. Shutdown PC\n",
            "Enter your choice (1-4): 1\n",
            "Enter folder name: mmm\n",
            "Folder 'mmm' created on Desktop.\n"
          ]
        }
      ],
      "source": [
        "#Write a program that do the following things:\n",
        "#1. take a input from a user, if user give 1 as a input than create a folder on the desktop,\n",
        "#2. if user give input 2 create a file on the desktop ,\n",
        "#3. if user give 3 give a WhatsApp msg to ur frnd,\n",
        "#4. if user give input 4 shutdown your pc\n",
        "import os\n",
        "import webbrowser\n",
        "desktop = r\"C:\\Users\\MAYTRI\\Desktop\"\n",
        "print(\"1. Create Folder\")\n",
        "print(\"2. Create File\")\n",
        "print(\"3. Send WhatsApp Message\")\n",
        "print(\"4. Shutdown PC\")\n",
        "choice = input(\"Enter your choice (1-4): \")\n",
        "if choice == \"1\":\n",
        "    folder_name = input(\"Enter folder name: \")\n",
        "    folder_path = os.path.join(desktop, folder_name)\n",
        "    try:\n",
        "        os.makedirs(folder_path)\n",
        "        print(f\"Folder '{folder_name}' created on Desktop.\")\n",
        "    except FileExistsError:\n",
        "        print(\"Folder already exists.\")\n",
        "    except Exception as e:\n",
        "        print(\"Error:\", e)\n",
        "elif choice == \"2\":\n",
        "    file_name = input(\"Enter file name (with extension, like test.txt): \")\n",
        "    file_path = os.path.join(desktop, file_name)\n",
        "    try:\n",
        "        with open(file_path, 'w') as f:\n",
        "            f.write(\"\")\n",
        "        print(f\"File '{file_name}' created on Desktop.\")\n",
        "    except Exception as e:\n",
        "        print(\"Error:\", e)\n",
        "elif choice == \"3\":\n",
        "    phone = input(\"Enter the phone number with country code (e.g. +91XXXXXXXXXX): \")\n",
        "    message = input(\"Enter your message: \")\n",
        "    try:\n",
        "        url = f\"https://web.whatsapp.com/send?phone={phone}&text={message}\"\n",
        "        webbrowser.open(url)\n",
        "        print(\"WhatsApp Web opened in your browser. Please press 'Enter' in chat to send the message manually.\")\n",
        "    except Exception as e:\n",
        "        print(\"Could not open WhatsApp Web. Error:\", e)\n",
        "elif choice == \"4\":\n",
        "    confirm = input(\"Are you sure you want to shutdown your PC? (yes/no): \")\n",
        "    if confirm.lower() == \"yes\":\n",
        "        print(\"Shutting down your PC...\")\n",
        "        os.system(\"shutdown /s /t 1\")\n",
        "    else:\n",
        "        print(\"Shutdown canceled.\")\n",
        "else:\n",
        "    print(\"Invalid choice. Please enter a number from 1 to 4.\")"
      ]
    },
    {
      "cell_type": "code",
      "source": [
        " import os\n",
        " import selenium\n",
        " import time\n",
        " from selenium import webdriver\n",
        " from selenium.webdriver.common.by import By\n",
        " username=input(\"enter your username:\")\n",
        " password=input(\"enter your password:\")\n",
        " driver=webdriver.Chrome()\n",
        " driver.get(\"https://www.instagram.com/accounts/login/\")\n",
        " time.sleep(5)\n",
        " driver.find_element(By.NAME,\"username\").send_keys(username)\n",
        " driver.find_element(By.NAME,\"password\").send_keys(password)\n",
        " driver.find_element(By.XPATH,\"//button[@type='submit']\").click()\n",
        " print(\"you are logged in\")"
      ],
      "metadata": {
        "id": "1ZE-9KuomdXK"
      },
      "execution_count": null,
      "outputs": []
    }
  ]
}