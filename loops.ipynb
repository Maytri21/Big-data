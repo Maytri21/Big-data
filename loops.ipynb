{
  "nbformat": 4,
  "nbformat_minor": 0,
  "metadata": {
    "colab": {
      "provenance": [],
      "authorship_tag": "ABX9TyOve1Yn5HvimzxOnmzQxJPJ",
      "include_colab_link": true
    },
    "kernelspec": {
      "name": "python3",
      "display_name": "Python 3"
    },
    "language_info": {
      "name": "python"
    }
  },
  "cells": [
    {
      "cell_type": "markdown",
      "metadata": {
        "id": "view-in-github",
        "colab_type": "text"
      },
      "source": [
        "<a href=\"https://colab.research.google.com/github/Maytri21/Big-data/blob/main/loops.ipynb\" target=\"_parent\"><img src=\"https://colab.research.google.com/assets/colab-badge.svg\" alt=\"Open In Colab\"/></a>"
      ]
    },
    {
      "cell_type": "code",
      "execution_count": null,
      "metadata": {
        "colab": {
          "base_uri": "https://localhost:8080/"
        },
        "id": "4ypU1hXwnph8",
        "outputId": "c02c250f-8b3c-4b5b-bfb0-325fa96ee121"
      },
      "outputs": [
        {
          "output_type": "stream",
          "name": "stdout",
          "text": [
            "enter a number:10\n",
            "1\n",
            "2\n",
            "3\n",
            "4\n",
            "5\n",
            "6\n",
            "7\n",
            "8\n",
            "9\n",
            "10\n"
          ]
        }
      ],
      "source": [
        "#1. Write a program to print all natural numbers from 1 to n. – using while loop\n",
        "n= int(input(\"enter a number:\"))\n",
        "i=1\n",
        "while(1<=i<=n):\n",
        "  print(i)\n",
        "  i+=1"
      ]
    },
    {
      "cell_type": "code",
      "source": [
        "#2. Write a program to print all natural numbers in reverse (from n to 1). – using while loop\n",
        "n= int(input(\"enter a number:\"))\n",
        "i=n\n",
        "while(n>=i>=1):\n",
        "  print(i)\n",
        "  i-=1\n"
      ],
      "metadata": {
        "colab": {
          "base_uri": "https://localhost:8080/"
        },
        "id": "wLCNcFyaper0",
        "outputId": "e7d7adae-9b82-4a1a-8728-d1c0cca706ed"
      },
      "execution_count": null,
      "outputs": [
        {
          "output_type": "stream",
          "name": "stdout",
          "text": [
            "enter a number:10\n",
            "10\n",
            "9\n",
            "8\n",
            "7\n",
            "6\n",
            "5\n",
            "4\n",
            "3\n",
            "2\n",
            "1\n"
          ]
        }
      ]
    },
    {
      "cell_type": "code",
      "source": [
        "#3. Write a program to print all alphabets from a to z. – using while loop\n",
        "i=\"a\"\n",
        "while(\"a\"<=i<=\"z\"):\n",
        "  print(i)\n",
        "  i= chr(ord(i)+1)"
      ],
      "metadata": {
        "colab": {
          "base_uri": "https://localhost:8080/"
        },
        "id": "EgZuRzQFtrk0",
        "outputId": "22e63bff-6dd3-4624-e34c-9efb2d21e908"
      },
      "execution_count": null,
      "outputs": [
        {
          "output_type": "stream",
          "name": "stdout",
          "text": [
            "a\n",
            "b\n",
            "c\n",
            "d\n",
            "e\n",
            "f\n",
            "g\n",
            "h\n",
            "i\n",
            "j\n",
            "k\n",
            "l\n",
            "m\n",
            "n\n",
            "o\n",
            "p\n",
            "q\n",
            "r\n",
            "s\n",
            "t\n",
            "u\n",
            "v\n",
            "w\n",
            "x\n",
            "y\n",
            "z\n"
          ]
        }
      ]
    },
    {
      "cell_type": "code",
      "source": [
        "#4. Write a program to print all even numbers between 1 to 100. – using while loop\n",
        "i=1\n",
        "while(1<=i<=100):\n",
        "  if(i%2==0):\n",
        "    print(i)\n",
        "  i+=1"
      ],
      "metadata": {
        "colab": {
          "base_uri": "https://localhost:8080/"
        },
        "id": "JLzqgjnKu5qQ",
        "outputId": "7509d371-d2ad-4df1-800a-96f0d331e98f"
      },
      "execution_count": null,
      "outputs": [
        {
          "output_type": "stream",
          "name": "stdout",
          "text": [
            "2\n",
            "4\n",
            "6\n",
            "8\n",
            "10\n",
            "12\n",
            "14\n",
            "16\n",
            "18\n",
            "20\n",
            "22\n",
            "24\n",
            "26\n",
            "28\n",
            "30\n",
            "32\n",
            "34\n",
            "36\n",
            "38\n",
            "40\n",
            "42\n",
            "44\n",
            "46\n",
            "48\n",
            "50\n",
            "52\n",
            "54\n",
            "56\n",
            "58\n",
            "60\n",
            "62\n",
            "64\n",
            "66\n",
            "68\n",
            "70\n",
            "72\n",
            "74\n",
            "76\n",
            "78\n",
            "80\n",
            "82\n",
            "84\n",
            "86\n",
            "88\n",
            "90\n",
            "92\n",
            "94\n",
            "96\n",
            "98\n",
            "100\n"
          ]
        }
      ]
    },
    {
      "cell_type": "code",
      "source": [
        "#5. Write a program to find the sum of all odd numbers between 1 to n.\n",
        "n= int(input(\"enter a number:\"))\n",
        "count=0\n",
        "for i in range(1,n):\n",
        "  if(i%2!=0):\n",
        "    count=count+i\n",
        "  i+=1\n",
        "print(\"the sum of odd nmbers is:\", count)"
      ],
      "metadata": {
        "colab": {
          "base_uri": "https://localhost:8080/"
        },
        "id": "vfOMfwdqyxqJ",
        "outputId": "d43e1338-137d-4720-b711-dd5087d0be6f"
      },
      "execution_count": null,
      "outputs": [
        {
          "output_type": "stream",
          "name": "stdout",
          "text": [
            "enter a number:10\n",
            "the sum of odd nmbers is: 25\n"
          ]
        }
      ]
    },
    {
      "cell_type": "code",
      "source": [
        "#6. Write a program to count the number of digits in a number.\n",
        "n=int(input(\"enter a number:\"))\n",
        "count=0\n",
        "while(n>0):\n",
        "  r=n%10\n",
        "  n=n//10\n",
        "  count+=1\n",
        "print(\"the number of digits are:\", count)"
      ],
      "metadata": {
        "colab": {
          "base_uri": "https://localhost:8080/"
        },
        "id": "H3Uu_3_61Z9k",
        "outputId": "1abd5f2a-e0f2-4d93-d02d-6392dd8bed99"
      },
      "execution_count": null,
      "outputs": [
        {
          "output_type": "stream",
          "name": "stdout",
          "text": [
            "enter a number:1234\n",
            "the number of digits are: 4\n"
          ]
        }
      ]
    },
    {
      "cell_type": "code",
      "source": [
        "#7. Write a program to calculate the sum of digits of a number.\n",
        "n=int(input(\"enter a number:\"))\n",
        "sum=0\n",
        "while(n>0):\n",
        "  r=n%10\n",
        "  n=n//10\n",
        "  sum=sum+(r)\n",
        "print(\"the sum of digits is:\", sum)"
      ],
      "metadata": {
        "colab": {
          "base_uri": "https://localhost:8080/"
        },
        "id": "txsee2cW7GlP",
        "outputId": "f670e96d-d979-4749-ffbf-f2c843d0d5ef"
      },
      "execution_count": null,
      "outputs": [
        {
          "output_type": "stream",
          "name": "stdout",
          "text": [
            "enter a number:123\n",
            "the sum of digits is: 6\n"
          ]
        }
      ]
    },
    {
      "cell_type": "code",
      "source": [
        "#8. Write a program to find the first and last digit of a number.\n",
        "number = int(input(\"Enter a number: \"))\n",
        "last_digit = number % 10\n",
        "first_digit = number\n",
        "while(first_digit >= 10):\n",
        "    first_digit //= 10\n",
        "print(\"First digit:\", first_digit)\n",
        "print(\"Last digit:\", last_digit)"
      ],
      "metadata": {
        "id": "kLJ1sOzp7kI1",
        "colab": {
          "base_uri": "https://localhost:8080/"
        },
        "outputId": "e8f74ed2-46ba-47cd-9778-be88df81b194"
      },
      "execution_count": null,
      "outputs": [
        {
          "output_type": "stream",
          "name": "stdout",
          "text": [
            "Enter a number: 1234\n",
            "First digit: 1\n",
            "Last digit: 4\n"
          ]
        }
      ]
    },
    {
      "cell_type": "code",
      "source": [
        "#9. Write a program to find the sum of first and last digit of a number.\n",
        "number = int(input(\"Enter a number: \"))\n",
        "sum=0\n",
        "last_digit = number % 10\n",
        "first_digit = number\n",
        "while(first_digit >= 10):\n",
        "    first_digit //= 10\n",
        "print(\"First digit:\", first_digit)\n",
        "print(\"Last digit:\", last_digit)\n",
        "sum= last_digit+first_digit\n",
        "print(\"the sum of first and last digit is:\", sum)"
      ],
      "metadata": {
        "colab": {
          "base_uri": "https://localhost:8080/"
        },
        "id": "_F8ijY8MHUaA",
        "outputId": "3b0d44f6-5d2f-4a19-f5e2-779212e16f96"
      },
      "execution_count": null,
      "outputs": [
        {
          "output_type": "stream",
          "name": "stdout",
          "text": [
            "Enter a number: 1234\n",
            "First digit: 1\n",
            "Last digit: 4\n",
            "the sum of first and last digit is: 5\n"
          ]
        }
      ]
    },
    {
      "cell_type": "code",
      "source": [
        "#10.Write a program to enter a number and print its reverse.\n",
        "number= int(input(\"enter a number:\"))\n",
        "reverse=0\n",
        "while(number>0):\n",
        "  r=number%10\n",
        "  number=number//10\n",
        "  reverse=reverse*10+r\n",
        "print(\"the reversed number is:\", reverse)"
      ],
      "metadata": {
        "colab": {
          "base_uri": "https://localhost:8080/"
        },
        "id": "D3r48QEXHspo",
        "outputId": "ab3748ca-0da2-4228-c873-4eafa2f97c7a"
      },
      "execution_count": null,
      "outputs": [
        {
          "output_type": "stream",
          "name": "stdout",
          "text": [
            "enter a number:1234\n",
            "the reversed number is: 4321\n"
          ]
        }
      ]
    },
    {
      "cell_type": "code",
      "source": [
        "#11.Write a program to find the power of a number using for loop.\n",
        "num= int(input(\"enter a number:\"))\n",
        "power= int(input(\"enter the power:\"))\n",
        "answer=1\n",
        "for i in range(power):\n",
        "  answer=answer*num\n",
        "print(\"the answer is:\", answer)"
      ],
      "metadata": {
        "colab": {
          "base_uri": "https://localhost:8080/"
        },
        "id": "UT7KxX6HJDph",
        "outputId": "91e1bbbd-0b3b-4b94-9dba-0a62088b0fb6"
      },
      "execution_count": null,
      "outputs": [
        {
          "output_type": "stream",
          "name": "stdout",
          "text": [
            "enter a number:12\n",
            "enter the power:2\n",
            "the answer is: 144\n"
          ]
        }
      ]
    },
    {
      "cell_type": "code",
      "source": [
        "#12.Write a program to find all factors of a number.\n",
        "num= int(input(\"enter a number:\"))\n",
        "for i in range(1,num+1):\n",
        "  if(num%i==0):\n",
        "    print(i, \"is a factor of\", num)"
      ],
      "metadata": {
        "colab": {
          "base_uri": "https://localhost:8080/"
        },
        "id": "jeGCxn22J9kl",
        "outputId": "7eb1d0f5-1c0c-4652-e567-d81579c7b941"
      },
      "execution_count": null,
      "outputs": [
        {
          "output_type": "stream",
          "name": "stdout",
          "text": [
            "enter a number:12\n",
            "1 is a factor of 12\n",
            "2 is a factor of 12\n",
            "3 is a factor of 12\n",
            "4 is a factor of 12\n",
            "6 is a factor of 12\n",
            "12 is a factor of 12\n"
          ]
        }
      ]
    },
    {
      "cell_type": "code",
      "source": [
        "#13.Write a program to calculate the factorial of a number.\n",
        "num= int(input(\"enter a number:\"))\n",
        "fact=1\n",
        "for i in range(1,num+1):\n",
        "  fact=fact*i\n",
        "print(\"factorial is:\", fact)"
      ],
      "metadata": {
        "colab": {
          "base_uri": "https://localhost:8080/"
        },
        "id": "Xfm1vGF3KdQA",
        "outputId": "ae7ad770-206b-43fc-e0bc-bda8d7f228ff"
      },
      "execution_count": null,
      "outputs": [
        {
          "output_type": "stream",
          "name": "stdout",
          "text": [
            "enter a number:4\n",
            "factorial is: 24\n"
          ]
        }
      ]
    },
    {
      "cell_type": "code",
      "source": [
        "#14.Write a program to find LCM of two numbers.\n",
        "num1=int(input(\"enter a number:\"))\n",
        "num2=int(input(\"enter another number:\"))\n",
        "if num1 > num2:\n",
        "  greater = num1\n",
        "else:\n",
        "  greater = num2\n",
        "while True:\n",
        "  if((greater % num1 == 0) and (greater % num2 == 0)):\n",
        "    lcm = greater\n",
        "    break\n",
        "  greater += 1\n",
        "print(\"lcm is:\", lcm)"
      ],
      "metadata": {
        "colab": {
          "base_uri": "https://localhost:8080/"
        },
        "id": "4PK0lhgCLqv1",
        "outputId": "88e21839-7470-43c9-fbe3-6120833a2a80"
      },
      "execution_count": null,
      "outputs": [
        {
          "output_type": "stream",
          "name": "stdout",
          "text": [
            "enter a number:2\n",
            "enter another number:3\n",
            "lcm is: 6\n"
          ]
        }
      ]
    },
    {
      "cell_type": "code",
      "source": [
        "#15.Write a program to check whether a number is Prime number or not.\n",
        "num= int(input(\"enter a number:\"))\n",
        "for i in range(2,num):\n",
        "  if(num%i==0):\n",
        "    print(\"number is not prime\")\n",
        "    break\n",
        "  else:\n",
        "    print(\"number is prime\")\n",
        "    break"
      ],
      "metadata": {
        "colab": {
          "base_uri": "https://localhost:8080/"
        },
        "id": "mIN-HsxyQhDy",
        "outputId": "1a0a5556-fcd8-46aa-9991-daf712eadb0f"
      },
      "execution_count": null,
      "outputs": [
        {
          "output_type": "stream",
          "name": "stdout",
          "text": [
            "enter a number:7\n",
            "number is prime\n"
          ]
        }
      ]
    },
    {
      "cell_type": "code",
      "source": [
        "#16.Write a program to print all Prime numbers between 1 to n.\n",
        "num = int(input(\"Enter a number: \"))\n",
        "print(\"Prime numbers between 1 and\", num, \"are:\")\n",
        "for j in range(2, num + 1):\n",
        "    for i in range(2, j):\n",
        "        if j % i == 0:\n",
        "            break\n",
        "    else:\n",
        "        print(j)\n",
        "\n",
        "\n",
        "\n"
      ],
      "metadata": {
        "id": "P21rV9EORv0V",
        "colab": {
          "base_uri": "https://localhost:8080/"
        },
        "outputId": "99fcb624-5b71-4ca8-cdb7-d773d64ebc57"
      },
      "execution_count": null,
      "outputs": [
        {
          "output_type": "stream",
          "name": "stdout",
          "text": [
            "Enter a number: 10\n",
            "Prime numbers between 1 and 10 are:\n",
            "2\n",
            "3\n",
            "5\n",
            "7\n"
          ]
        }
      ]
    },
    {
      "cell_type": "code",
      "source": [
        "#17.Write a program to find all prime factors of a number.\n",
        "num = int(input(\"Enter a number: \"))\n",
        "print(\"Prime factors of\", num, \"are:\")\n",
        "i = 2\n",
        "while(i <= num):\n",
        "    if num % i == 0:\n",
        "        print(i)\n",
        "        num = num // i\n",
        "    i += 1\n"
      ],
      "metadata": {
        "id": "lqO5L7L3Spp4",
        "colab": {
          "base_uri": "https://localhost:8080/"
        },
        "outputId": "f6faa1bc-91f8-4c4b-af8c-c8a8941e2796"
      },
      "execution_count": null,
      "outputs": [
        {
          "output_type": "stream",
          "name": "stdout",
          "text": [
            "Enter a number: 20\n",
            "Prime factors of 20 are:\n",
            "2\n",
            "5\n"
          ]
        }
      ]
    },
    {
      "cell_type": "code",
      "source": [
        "#18.Write a program to check whether a number is an Armstrong number or not.\n",
        "n=int(input(\"enter a number:\"))\n",
        "sum=0\n",
        "temp=n\n",
        "while(n>0):\n",
        "  r=n%10\n",
        "  n=n//10\n",
        "  sum=sum+(r**3)\n",
        "if(sum==temp):\n",
        "  print(\"number is armstrong\")\n",
        "else:\n",
        "  print(\"number is not armstrog\")"
      ],
      "metadata": {
        "colab": {
          "base_uri": "https://localhost:8080/"
        },
        "id": "PEQbGIRiSrWo",
        "outputId": "77f81d13-159c-428c-9221-a916b079b713"
      },
      "execution_count": null,
      "outputs": [
        {
          "output_type": "stream",
          "name": "stdout",
          "text": [
            "enter a number:153\n",
            "number is armstrong\n"
          ]
        }
      ]
    },
    {
      "cell_type": "code",
      "source": [
        "#19.Write a program to check whether a number is Strong number or not.\n",
        "num=int(input(\"enter a number:\"))\n",
        "original=num\n",
        "sum=0\n",
        "for digit in str(num):\n",
        "  digit=int(digit)\n",
        "  fact=1\n",
        "  for i in range(1,digit+1):\n",
        "    fact*=i\n",
        "  sum+=fact\n",
        "if(sum==original):\n",
        "  print(f\"{num} is a strong number\")\n",
        "else:\n",
        "  print(f\"{num} is not a strong number\")"
      ],
      "metadata": {
        "colab": {
          "base_uri": "https://localhost:8080/"
        },
        "id": "ywBDM7x9T5KZ",
        "outputId": "67f3bb23-0b53-499c-e5c3-29bc8ba41145"
      },
      "execution_count": null,
      "outputs": [
        {
          "output_type": "stream",
          "name": "stdout",
          "text": [
            "enter a number:145\n",
            "145 is a strong number\n"
          ]
        }
      ]
    },
    {
      "cell_type": "code",
      "source": [
        "#20.Write a program to check whether a number is perfect number or not.\n",
        "num= int(input(\"enter a number:\"))\n",
        "sum=0\n",
        "for i in range(1,num):\n",
        "  if(num%i==0):\n",
        "    sum+=i\n",
        "if(sum==num):\n",
        "  print(num, \"is a perfect number\")\n",
        "else:\n",
        "  print(num, \"is not a perfect number\")"
      ],
      "metadata": {
        "colab": {
          "base_uri": "https://localhost:8080/"
        },
        "id": "ORKkhDtrT8hU",
        "outputId": "fcd6c420-4a78-40a1-da05-4516122a4b64"
      },
      "execution_count": null,
      "outputs": [
        {
          "output_type": "stream",
          "name": "stdout",
          "text": [
            "enter a number:7\n",
            "7 is not a perfect number\n"
          ]
        }
      ]
    },
    {
      "cell_type": "code",
      "source": [
        "#21.Write a program to print fibonacci series upto n terms.\n",
        "n = int(input(\"Enter the number of terms: \"))\n",
        "a, b = 0, 1\n",
        "print(\"Fibonacci series:\")\n",
        "for i in range(n):\n",
        "    print(a, end=\" \")\n",
        "    a,b=b,a+b"
      ],
      "metadata": {
        "colab": {
          "base_uri": "https://localhost:8080/"
        },
        "id": "blG2-8A2UXfg",
        "outputId": "ca847a32-6df6-4075-feef-d6f534bb8cb5"
      },
      "execution_count": null,
      "outputs": [
        {
          "output_type": "stream",
          "name": "stdout",
          "text": [
            "Enter the number of terms: 3\n",
            "Fibonacci series:\n",
            "0 1 1 "
          ]
        }
      ]
    },
    {
      "cell_type": "code",
      "source": [
        "#22.Write a program to find ones complement of a binary number.\n",
        "num=int(input(\"enter a number in binary:\"))\n",
        "complement=\" \"\n",
        "for digit in str(num):\n",
        "  digit=int(digit)\n",
        "  if(digit==1):\n",
        "    complement+=\"0\"\n",
        "  else:\n",
        "    complement+=\"1\"\n",
        "print(\"1s complement is:\", complement)"
      ],
      "metadata": {
        "colab": {
          "base_uri": "https://localhost:8080/"
        },
        "id": "awtz8UJ2UbZW",
        "outputId": "dd9399d0-8799-40aa-f0b7-22737f036ea4"
      },
      "execution_count": null,
      "outputs": [
        {
          "output_type": "stream",
          "name": "stdout",
          "text": [
            "enter a number in binary:1001\n",
            "1s complement is:  0110\n"
          ]
        }
      ]
    }
  ]
}